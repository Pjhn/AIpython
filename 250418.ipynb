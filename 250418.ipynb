{
 "cells": [
  {
   "cell_type": "code",
   "execution_count": 1,
   "id": "5c6a94d8-09fc-456b-abdf-2ee2680ed75c",
   "metadata": {},
   "outputs": [
    {
     "name": "stdout",
     "output_type": "stream",
     "text": [
      "학생 정보 딕셔너리: {'name': '김민수', 'age': 20, 'major': '컴퓨터공학'}\n",
      "이름: 김민수\n",
      "학생 정보 딕셔너리: {'name': '김민수', 'age': 20, 'major': '컴퓨터공학', 'grade': 4.0}\n",
      "학생 정보 딕셔너리: {'name': '김민수', 'age': 20, 'grade': 4.0}\n"
     ]
    }
   ],
   "source": [
    "student = {\n",
    "    'name': '김민수',\n",
    "    'age': 20,\n",
    "    'major': '컴퓨터공학'\n",
    "}\n",
    "print(f\"학생 정보 딕셔너리: {student}\")\n",
    "\n",
    "name = student['name']\n",
    "print(f\"이름: {name}\")\n",
    "\n",
    "#요소 추가\n",
    "student['grade'] = 4.0\n",
    "print(f\"학생 정보 딕셔너리: {student}\")\n",
    "\n",
    "#요소 삭제\n",
    "del student['major']\n",
    "print(f\"학생 정보 딕셔너리: {student}\")\n"
   ]
  },
  {
   "cell_type": "code",
   "execution_count": 5,
   "id": "038385ac-7dbe-4874-8fc6-0d9938847aae",
   "metadata": {},
   "outputs": [
    {
     "name": "stdout",
     "output_type": "stream",
     "text": [
      "과일 가격 정보:\n",
      "사과: 1500원\n",
      "바나나: 800원\n",
      "딸기: 3000원\n",
      "오렌지: 1200원\n",
      "\n",
      "과일 목록:\n",
      "사과\n",
      "바나나\n",
      "딸기\n",
      "오렌지\n"
     ]
    }
   ],
   "source": [
    "fruit_prices = {\n",
    "    '사과': 1500,\n",
    "    '바나나': 800,\n",
    "    '딸기': 3000,\n",
    "    '오렌지': 1200\n",
    "}\n",
    "print(\"과일 가격 정보:\")\n",
    "for fruit,price in fruit_prices.items():\n",
    "    print(f\"{fruit}: {price}원\")\n",
    "\n",
    "print(\"\\n과일 목록:\")\n",
    "for fruit in fruit_prices.keys():\n",
    "    print(fruit)"
   ]
  },
  {
   "cell_type": "code",
   "execution_count": 6,
   "id": "1576508b-ee8b-4796-96a5-a271378df2d4",
   "metadata": {},
   "outputs": [
    {
     "name": "stdin",
     "output_type": "stream",
     "text": [
      " 1 2\n"
     ]
    },
    {
     "name": "stdout",
     "output_type": "stream",
     "text": [
      "3\n"
     ]
    }
   ],
   "source": [
    "A,B = map(int, input().split())\n",
    "print(A+B)"
   ]
  },
  {
   "cell_type": "code",
   "execution_count": 19,
   "id": "31f71486-e75f-4d69-90f3-28baaba7cfa2",
   "metadata": {},
   "outputs": [
    {
     "name": "stdin",
     "output_type": "stream",
     "text": [
      " 187\n",
      " 102.0\n"
     ]
    },
    {
     "name": "stdout",
     "output_type": "stream",
     "text": [
      "29.17\n"
     ]
    }
   ],
   "source": [
    "H = float(input())*0.01\n",
    "W = float(input())\n",
    "BMI = W / H **2 \n",
    "print(round(BMI,2))"
   ]
  },
  {
   "cell_type": "code",
   "execution_count": null,
   "id": "3376b8a3-6fbd-44bf-b8c3-9e464e1d9617",
   "metadata": {},
   "outputs": [],
   "source": []
  }
 ],
 "metadata": {
  "kernelspec": {
   "display_name": "Python 3 (ipykernel)",
   "language": "python",
   "name": "python3"
  },
  "language_info": {
   "codemirror_mode": {
    "name": "ipython",
    "version": 3
   },
   "file_extension": ".py",
   "mimetype": "text/x-python",
   "name": "python",
   "nbconvert_exporter": "python",
   "pygments_lexer": "ipython3",
   "version": "3.12.6"
  }
 },
 "nbformat": 4,
 "nbformat_minor": 5
}
