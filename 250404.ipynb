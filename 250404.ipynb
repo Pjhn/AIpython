{
 "cells": [
  {
   "cell_type": "code",
   "execution_count": 6,
   "id": "5d1572f2-a46f-4133-83c4-f639ffdb259b",
   "metadata": {},
   "outputs": [
    {
     "name": "stdin",
     "output_type": "stream",
     "text": [
      "온도 종류를 입력하세요(섭씨, 화씨):  화씨\n",
      "온도:  77\n"
     ]
    },
    {
     "name": "stdout",
     "output_type": "stream",
     "text": [
      "섭씨 온도: 25.00\n"
     ]
    }
   ],
   "source": [
    "kind = input('온도 종류를 입력하세요(섭씨, 화씨): ')\n",
    "temp = int(input('온도: '))\n",
    "\n",
    "if kind == '섭씨':\n",
    "    print('화씨 온도: %.2f' % (temp * 9/5 + 32))\n",
    "elif kind == '화씨':\n",
    "    print('섭씨 온도: %.2f' % ((temp - 32) * 5/9))\n",
    "else:\n",
    "    print('잘못된 입력입니다')"
   ]
  },
  {
   "cell_type": "code",
   "execution_count": 3,
   "id": "5e6f0454-43d2-4483-bafb-8775c9448ea5",
   "metadata": {},
   "outputs": [
    {
     "name": "stdout",
     "output_type": "stream",
     "text": [
      "77.00\n"
     ]
    }
   ],
   "source": [
    "print(\"%0.2f\" % temp)"
   ]
  },
  {
   "cell_type": "code",
   "execution_count": 10,
   "id": "d9d15033-8f85-4892-9252-42186482bf0f",
   "metadata": {},
   "outputs": [
    {
     "name": "stdin",
     "output_type": "stream",
     "text": [
      "1~100까지의 숫자를 입력하세요:  50\n"
     ]
    },
    {
     "name": "stdout",
     "output_type": "stream",
     "text": [
      "다운\n"
     ]
    },
    {
     "name": "stdin",
     "output_type": "stream",
     "text": [
      "1~100까지의 숫자를 입력하세요:  25\n"
     ]
    },
    {
     "name": "stdout",
     "output_type": "stream",
     "text": [
      "다운\n"
     ]
    },
    {
     "name": "stdin",
     "output_type": "stream",
     "text": [
      "1~100까지의 숫자를 입력하세요:  12\n"
     ]
    },
    {
     "name": "stdout",
     "output_type": "stream",
     "text": [
      "다운\n"
     ]
    },
    {
     "name": "stdin",
     "output_type": "stream",
     "text": [
      "1~100까지의 숫자를 입력하세요:  6\n"
     ]
    },
    {
     "name": "stdout",
     "output_type": "stream",
     "text": [
      "업\n"
     ]
    },
    {
     "name": "stdin",
     "output_type": "stream",
     "text": [
      "1~100까지의 숫자를 입력하세요:  7\n"
     ]
    },
    {
     "name": "stdout",
     "output_type": "stream",
     "text": [
      "업\n"
     ]
    },
    {
     "name": "stdin",
     "output_type": "stream",
     "text": [
      "1~100까지의 숫자를 입력하세요:  8\n"
     ]
    },
    {
     "name": "stdout",
     "output_type": "stream",
     "text": [
      "정답입니다. 6회만에 맞추셨습니다\n"
     ]
    }
   ],
   "source": [
    "import random\n",
    "\n",
    "answer = random.randint(1,100)\n",
    "cnt = 0\n",
    "\n",
    "while True:\n",
    "    user = int(input(\"1~100까지의 숫자를 입력하세요: \"))\n",
    "    cnt += 1\n",
    "    if user == answer:\n",
    "        break\n",
    "    elif user < answer:\n",
    "        print(\"업\")\n",
    "    elif user > answer:\n",
    "        print(\"다운\")\n",
    "\n",
    "print(f\"정답입니다. {cnt}회만에 맞추셨습니다\")"
   ]
  },
  {
   "cell_type": "code",
   "execution_count": 11,
   "id": "89a05eb4-155f-4eae-ac2e-734120504fcf",
   "metadata": {},
   "outputs": [
    {
     "name": "stdout",
     "output_type": "stream",
     "text": [
      "[26, 39, 99, 30, 55, 77]\n"
     ]
    }
   ],
   "source": [
    "arr = []\n",
    "\n",
    "for _ in range(6):\n",
    "    num = random.randint(1,100)\n",
    "    arr.append(num)\n",
    "\n",
    "print(arr)"
   ]
  },
  {
   "cell_type": "code",
   "execution_count": 13,
   "id": "888bcb46-785b-4bff-9bdf-a06069c34425",
   "metadata": {},
   "outputs": [
    {
     "name": "stdout",
     "output_type": "stream",
     "text": [
      "86.4\n"
     ]
    }
   ],
   "source": [
    "성적 = [85,92,78,90,87]\n",
    "\n",
    "total = 0\n",
    "cnt = 0\n",
    "\n",
    "for n in 성적:\n",
    "    total += n\n",
    "    cnt += 1\n",
    "\n",
    "print(total / cnt)"
   ]
  },
  {
   "cell_type": "code",
   "execution_count": null,
   "id": "c4c3c5fc-672b-4c0d-8cc7-926c27f90e40",
   "metadata": {},
   "outputs": [],
   "source": []
  },
  {
   "cell_type": "code",
   "execution_count": null,
   "id": "12104ab0-e6e8-494f-b4d4-99f0b91053a1",
   "metadata": {},
   "outputs": [],
   "source": []
  }
 ],
 "metadata": {
  "kernelspec": {
   "display_name": "Python 3 (ipykernel)",
   "language": "python",
   "name": "python3"
  },
  "language_info": {
   "codemirror_mode": {
    "name": "ipython",
    "version": 3
   },
   "file_extension": ".py",
   "mimetype": "text/x-python",
   "name": "python",
   "nbconvert_exporter": "python",
   "pygments_lexer": "ipython3",
   "version": "3.12.6"
  }
 },
 "nbformat": 4,
 "nbformat_minor": 5
}
