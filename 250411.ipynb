{
 "cells": [
  {
   "cell_type": "code",
   "execution_count": 4,
   "id": "8f0cbec0-f1bb-431a-ba42-04b1df6356cc",
   "metadata": {},
   "outputs": [
    {
     "name": "stdout",
     "output_type": "stream",
     "text": [
      "남자\n"
     ]
    }
   ],
   "source": [
    "id = \"123456-1111111\"\n",
    "gender = id[7]\n",
    "\n",
    "if gender == '1':\n",
    "    print(\"남자\")\n",
    "else:\n",
    "    print(\"여자\")"
   ]
  },
  {
   "cell_type": "code",
   "execution_count": 6,
   "id": "3cc49bff-d2b7-4519-b21b-1034507703e0",
   "metadata": {},
   "outputs": [
    {
     "name": "stdin",
     "output_type": "stream",
     "text": [
      " aba\n"
     ]
    },
    {
     "name": "stdout",
     "output_type": "stream",
     "text": [
      "회문입니다\n"
     ]
    }
   ],
   "source": [
    "s1 = input()\n",
    "s2 = ''\n",
    "\n",
    "for i in range(len(s1) - 1, -1, -1):\n",
    "    s2 += s1[i]\n",
    "\n",
    "if s1 == s2:\n",
    "    print(\"회문입니다\")\n",
    "else:\n",
    "    print(\"회문이 아닙니다\")"
   ]
  },
  {
   "cell_type": "code",
   "execution_count": 10,
   "id": "70011c7b-10b7-4676-9939-aaa1de3a34b9",
   "metadata": {},
   "outputs": [
    {
     "name": "stdout",
     "output_type": "stream",
     "text": [
      "['부산시', '금정구']\n",
      "부산시 금정구\n"
     ]
    }
   ],
   "source": [
    "s = \"부산시 금정구\"\n",
    "\n",
    "print(s.split())\n",
    "print(' '.join(arr))"
   ]
  },
  {
   "cell_type": "code",
   "execution_count": 16,
   "id": "ed3ee61f-0ffa-4f1e-9a13-8938028496d4",
   "metadata": {},
   "outputs": [
    {
     "name": "stdin",
     "output_type": "stream",
     "text": [
      "비밀번호를 입력하세요(영어, 숫자 포함):  123\n"
     ]
    },
    {
     "name": "stdout",
     "output_type": "stream",
     "text": [
      "영어와 숫자로 구성되어있지 않습니다. 다시 입력해주세요.\n"
     ]
    },
    {
     "name": "stdin",
     "output_type": "stream",
     "text": [
      "비밀번호를 입력하세요(영어, 숫자 포함):  123a\n"
     ]
    }
   ],
   "source": [
    "while True:\n",
    "    password = input(\"비밀번호를 입력하세요(영어, 숫자 포함): \")\n",
    "    \n",
    "    if password.isalpha() or password.isdigit():\n",
    "        print(\"영어와 숫자로 구성되어있지 않습니다. 다시 입력해주세요.\")\n",
    "    else:\n",
    "        break\n",
    "    \n",
    "    "
   ]
  },
  {
   "cell_type": "code",
   "execution_count": null,
   "id": "d8de3ca9-a8fe-48d8-8071-90489c9ee441",
   "metadata": {},
   "outputs": [],
   "source": []
  }
 ],
 "metadata": {
  "kernelspec": {
   "display_name": "Python 3 (ipykernel)",
   "language": "python",
   "name": "python3"
  },
  "language_info": {
   "codemirror_mode": {
    "name": "ipython",
    "version": 3
   },
   "file_extension": ".py",
   "mimetype": "text/x-python",
   "name": "python",
   "nbconvert_exporter": "python",
   "pygments_lexer": "ipython3",
   "version": "3.12.6"
  }
 },
 "nbformat": 4,
 "nbformat_minor": 5
}
