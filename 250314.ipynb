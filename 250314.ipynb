{
  "nbformat": 4,
  "nbformat_minor": 0,
  "metadata": {
    "colab": {
      "provenance": []
    },
    "kernelspec": {
      "name": "python3",
      "display_name": "Python 3"
    },
    "language_info": {
      "name": "python"
    }
  },
  "cells": [
    {
      "cell_type": "code",
      "execution_count": 1,
      "metadata": {
        "id": "-sWqtn9beKRQ"
      },
      "outputs": [],
      "source": [
        "#반지름이 5인 원의 면적을 구하시오"
      ]
    },
    {
      "cell_type": "code",
      "source": [
        "r = 5\n",
        "pi = 3.141592\n",
        "result = r*r*pi"
      ],
      "metadata": {
        "id": "2OoZTuB0ePiM"
      },
      "execution_count": 4,
      "outputs": []
    },
    {
      "cell_type": "code",
      "source": [
        "print(\"반지름이 5인 원의 면적은\", result, \"입니다\")"
      ],
      "metadata": {
        "colab": {
          "base_uri": "https://localhost:8080/"
        },
        "id": "fl_IBDOOeVNz",
        "outputId": "959d589b-7321-4e6e-b693-518fb6917a49"
      },
      "execution_count": 6,
      "outputs": [
        {
          "output_type": "stream",
          "name": "stdout",
          "text": [
            "반지름이 5인 원의 면적은 78.5398 입니다\n"
          ]
        }
      ]
    },
    {
      "cell_type": "code",
      "source": [
        "#분(정수)을 시간과 분으로 변환하여 출력하시오\n",
        "\n",
        "time = 100\n",
        "hour = time // 60\n",
        "min = time % 60\n",
        "\n",
        "print(f'{time}분은 {hour}시간 {min}분 입니다.')"
      ],
      "metadata": {
        "colab": {
          "base_uri": "https://localhost:8080/"
        },
        "id": "6QIp5PXHhwj6",
        "outputId": "38a95912-c259-49c3-c64c-017b6ddb94cd"
      },
      "execution_count": 7,
      "outputs": [
        {
          "output_type": "stream",
          "name": "stdout",
          "text": [
            "100분은 1시간 40분 입니다.\n"
          ]
        }
      ]
    }
  ]
}