{
 "cells": [
  {
   "cell_type": "code",
   "execution_count": 1,
   "id": "a52c7afd-b90a-4c3a-a4bb-5390b95f64da",
   "metadata": {},
   "outputs": [
    {
     "name": "stdin",
     "output_type": "stream",
     "text": [
      "나이를 입력하세요:  26\n"
     ]
    },
    {
     "name": "stdout",
     "output_type": "stream",
     "text": [
      "당신은 내년에 27 살 입니다.\n"
     ]
    }
   ],
   "source": [
    "age = input(\"나이를 입력하세요: \")\n",
    "age = int(age)\n",
    "print(\"당신은 내년에\", age + 1, \"살 입니다.\")"
   ]
  },
  {
   "cell_type": "code",
   "execution_count": 2,
   "id": "d200b35e-beba-4e6f-b2ee-c2aa177546c3",
   "metadata": {},
   "outputs": [
    {
     "name": "stdin",
     "output_type": "stream",
     "text": [
      "나이를 입력하세요:  10\n"
     ]
    },
    {
     "name": "stdout",
     "output_type": "stream",
     "text": [
      "당신은 내년에 11 살 입니다.\n"
     ]
    }
   ],
   "source": [
    "age = input(\"나이를 입력하세요: \")\n",
    "age = int(age)\n",
    "next_age = age + 1\n",
    "print(\"당신은 내년에\", next_age, \"살 입니다.\")"
   ]
  },
  {
   "cell_type": "code",
   "execution_count": 4,
   "id": "b0eb5dfe-f2d5-4b2c-9ef0-deffab85c30e",
   "metadata": {},
   "outputs": [
    {
     "name": "stdin",
     "output_type": "stream",
     "text": [
      "나이를 입력하세요:  10\n"
     ]
    },
    {
     "name": "stdout",
     "output_type": "stream",
     "text": [
      "10살 입니다.\n"
     ]
    }
   ],
   "source": [
    "age = input(\"나이를 입력하세요: \")\n",
    "print(age + \"살 입니다.\")"
   ]
  },
  {
   "cell_type": "code",
   "execution_count": 12,
   "id": "c40c59ef-613c-40a6-8d70-656bec44ce63",
   "metadata": {},
   "outputs": [
    {
     "name": "stdin",
     "output_type": "stream",
     "text": [
      "숫자를 입력하세요:  15\n"
     ]
    },
    {
     "name": "stdout",
     "output_type": "stream",
     "text": [
      "15은 양수입니다.\n"
     ]
    }
   ],
   "source": [
    "#입력한 숫자의 양수/음수 유무 판단\n",
    "\n",
    "num = int(input(\"숫자를 입력하세요: \"))\n",
    "\n",
    "if num > 0:\n",
    "    print(f\"{num}은 양수입니다.\")\n",
    "elif num == 0:\n",
    "    print(\"입력된 숫자는 0입니다.\")\n",
    "else:\n",
    "    print(f\"{num}은 음수입니다.\")"
   ]
  },
  {
   "cell_type": "code",
   "execution_count": 14,
   "id": "e3653475-bca1-4cd2-9cea-b0f8638729d5",
   "metadata": {},
   "outputs": [
    {
     "name": "stdin",
     "output_type": "stream",
     "text": [
      "숫자를 입력하세요:  12\n"
     ]
    },
    {
     "name": "stdout",
     "output_type": "stream",
     "text": [
      "12은 짝수 입니다.\n"
     ]
    }
   ],
   "source": [
    "#입력한 숫자의 짝수/홀수 유무 판단\n",
    "\n",
    "num = int(input(\"숫자를 입력하세요: \"))\n",
    "\n",
    "if num % 2 == 0:\n",
    "    print(f\"{num}은 짝수 입니다.\")\n",
    "else:\n",
    "    print(f\"{num}은 홀수 입니다.\")"
   ]
  },
  {
   "cell_type": "code",
   "execution_count": 17,
   "id": "a65418ee-3914-4951-ae1f-d0dba38de63b",
   "metadata": {},
   "outputs": [
    {
     "name": "stdin",
     "output_type": "stream",
     "text": [
      " 1 2\n"
     ]
    },
    {
     "name": "stdout",
     "output_type": "stream",
     "text": [
      "B승A패\n"
     ]
    }
   ],
   "source": [
    "#코드플레이스 1402\n",
    "\n",
    "a, b = map(int, input().split())\n",
    "\n",
    "arr = [1,2,3]\n",
    "\n",
    "if a not in arr or b not in arr:\n",
    "    print(\"잘못된입력\")\n",
    "elif a == b:\n",
    "    print(\"무승부\")\n",
    "elif (a == 1 and b == 3) or (a == 2 and b == 1) or (a == 3 and b == 2):\n",
    "    print(\"A승B패\")\n",
    "else:\n",
    "    print(\"B승A패\")"
   ]
  },
  {
   "cell_type": "code",
   "execution_count": null,
   "id": "3003b7ac-8c4f-4da8-be8e-ac6f7bc50568",
   "metadata": {},
   "outputs": [],
   "source": []
  }
 ],
 "metadata": {
  "kernelspec": {
   "display_name": "Python 3 (ipykernel)",
   "language": "python",
   "name": "python3"
  },
  "language_info": {
   "codemirror_mode": {
    "name": "ipython",
    "version": 3
   },
   "file_extension": ".py",
   "mimetype": "text/x-python",
   "name": "python",
   "nbconvert_exporter": "python",
   "pygments_lexer": "ipython3",
   "version": "3.12.6"
  }
 },
 "nbformat": 4,
 "nbformat_minor": 5
}
