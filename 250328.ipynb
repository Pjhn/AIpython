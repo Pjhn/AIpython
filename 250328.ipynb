{
  "nbformat": 4,
  "nbformat_minor": 0,
  "metadata": {
    "colab": {
      "provenance": []
    },
    "kernelspec": {
      "name": "python3",
      "display_name": "Python 3"
    },
    "language_info": {
      "name": "python"
    }
  },
  "cells": [
    {
      "cell_type": "code",
      "execution_count": 1,
      "metadata": {
        "colab": {
          "base_uri": "https://localhost:8080/"
        },
        "id": "5yxqN2hWS62f",
        "outputId": "03f2f9c5-9ad7-4145-bb64-41ab5c03f4e4"
      },
      "outputs": [
        {
          "output_type": "stream",
          "name": "stdout",
          "text": [
            "1 2\n",
            "1은(는) 2보다  작습니다.\n"
          ]
        }
      ],
      "source": [
        "#문제 1: 두 수 비교하기\n",
        "\n",
        "a,b = map(int, input().split())\n",
        "\n",
        "if a > b:\n",
        "  print(f\"{a}은(는) {b}보다 큽니다.\")\n",
        "elif a < b:\n",
        "  print(f\"{a}은(는) {b}보다 작습니다.\")\n",
        "else:\n",
        "  print(f\"{a}와 {b}은(는) 같습니다.\")\n"
      ]
    },
    {
      "cell_type": "code",
      "source": [
        "#문제 2: 세 수 중 가장 큰 수 찾기\n",
        "\n",
        "a,b,c = map(int, input().split())\n",
        "\n",
        "max_value = a\n",
        "\n",
        "if max_value < b:\n",
        "  max_value = b\n",
        "if max_value < c:\n",
        "  max_value = c\n",
        "\n",
        "print(max_value)"
      ],
      "metadata": {
        "colab": {
          "base_uri": "https://localhost:8080/"
        },
        "id": "PuhyVMjpYDgo",
        "outputId": "4be1b971-1d9c-4c80-bd35-04eb2904d1a0"
      },
      "execution_count": 2,
      "outputs": [
        {
          "output_type": "stream",
          "name": "stdout",
          "text": [
            "1 2 3\n",
            "3\n"
          ]
        }
      ]
    },
    {
      "cell_type": "code",
      "source": [
        "#문제 3: 학점 판별하기\n",
        "score = int(input(\"시험 점수 (0~100)를 입력하세요: \"))\n",
        "\n",
        "if 0 <= score <= 100:\n",
        "  if score >= 90:\n",
        "    grade = 'A'\n",
        "  elif score >= 80:\n",
        "    grade = 'B'\n",
        "  elif score >= 70:\n",
        "   grade = 'C'\n",
        "  elif score >= 60:\n",
        "    grade = 'D'\n",
        "  else:\n",
        "    grade = 'F'\n",
        "  print(f\"당신의 학점은 {grade}입니다.\")\n",
        "else:\n",
        "  print(\"점수는 0부터 100 사이의 값이어야 합니다.\")"
      ],
      "metadata": {
        "colab": {
          "base_uri": "https://localhost:8080/"
        },
        "id": "kzwWlJQGakWO",
        "outputId": "1102f67d-a327-432e-f1ac-bb267d376fa6"
      },
      "execution_count": 4,
      "outputs": [
        {
          "output_type": "stream",
          "name": "stdout",
          "text": [
            "시험 점수 (0~100)를 입력하세요: 80\n",
            "당신의 학점은 B입니다.\n"
          ]
        }
      ]
    },
    {
      "cell_type": "code",
      "source": [
        "#문제 4: 윤년 판별하기\n",
        "year = int(input(\"연도를 입력하세요: \"))\n",
        "\n",
        "if (year % 4 == 0 and year % 100 != 0) or year % 400 == 0:\n",
        "  print(\"윤년 입니다\")\n",
        "else:\n",
        "  print(\"윤년이 아닙니다\")"
      ],
      "metadata": {
        "colab": {
          "base_uri": "https://localhost:8080/"
        },
        "id": "MmfBKBCTdBXt",
        "outputId": "e44acca9-7904-477c-bda7-d076a55810ce"
      },
      "execution_count": 6,
      "outputs": [
        {
          "output_type": "stream",
          "name": "stdout",
          "text": [
            "연도를 입력하세요: 2018\n",
            "윤년이 아닙니다\n"
          ]
        }
      ]
    },
    {
      "cell_type": "code",
      "source": [
        "#반복문\n",
        "#1부터 N까지의 합 계산하기\n",
        "\n",
        "N = int(input(\"양의 정수를 입력하세요: \"))\n",
        "\n",
        "total = 0\n",
        "\n",
        "for i in range(1,N+1):\n",
        "  total += i\n",
        "\n",
        "print(total)"
      ],
      "metadata": {
        "colab": {
          "base_uri": "https://localhost:8080/"
        },
        "id": "3vhWuWnigqAr",
        "outputId": "7cb37976-5852-406f-8706-e25e2e1b57bf"
      },
      "execution_count": 7,
      "outputs": [
        {
          "output_type": "stream",
          "name": "stdout",
          "text": [
            "양의 정수를 입력하세요: 5\n",
            "15\n"
          ]
        }
      ]
    },
    {
      "cell_type": "code",
      "source": [
        "#구구단 출력\n",
        "\n",
        "dan = int(input(\"출력하고 싶은 단(2~9)을 입력하세요: \"))\n",
        "\n",
        "if 2<=dan<=9:\n",
        "  print(f\"\\n------{dan}단------\")\n",
        "  for i in range(1,10):\n",
        "    print(f\"{dan} * {i} =  {dan * i}\")\n",
        "else:\n",
        "  print(\"잘못된 입력\")"
      ],
      "metadata": {
        "colab": {
          "base_uri": "https://localhost:8080/"
        },
        "id": "XvjwN_COqL6N",
        "outputId": "702d66c6-bae8-4b04-d039-0af6665cfa5d"
      },
      "execution_count": 9,
      "outputs": [
        {
          "output_type": "stream",
          "name": "stdout",
          "text": [
            "출력하고 싶은 단(2~9)을 입력하세요: 3\n",
            "\n",
            "------3단------\n",
            "3 * 1 =  3\n",
            "3 * 2 =  6\n",
            "3 * 3 =  9\n",
            "3 * 4 =  12\n",
            "3 * 5 =  15\n",
            "3 * 6 =  18\n",
            "3 * 7 =  21\n",
            "3 * 8 =  24\n",
            "3 * 9 =  27\n"
          ]
        }
      ]
    },
    {
      "cell_type": "code",
      "source": [
        "#특정 조건까지 반복하기\n",
        "count = 0\n",
        "\n",
        "while count < 10:\n",
        "  print(count, end = \" \")\n",
        "  count += 1\n",
        "print(\"루프 종료\")\n",
        "\n",
        "for i in range(10):\n",
        "  print(i, end = \" \")\n"
      ],
      "metadata": {
        "colab": {
          "base_uri": "https://localhost:8080/"
        },
        "id": "uNvvWKQ6rYNs",
        "outputId": "0182beda-343f-44ba-8f5c-15c627b3e4fb"
      },
      "execution_count": 16,
      "outputs": [
        {
          "output_type": "stream",
          "name": "stdout",
          "text": [
            "0 1 2 3 4 5 6 7 8 9 루프 종료\n",
            "0 1 2 3 4 5 6 7 8 9 "
          ]
        }
      ]
    }
  ]
}